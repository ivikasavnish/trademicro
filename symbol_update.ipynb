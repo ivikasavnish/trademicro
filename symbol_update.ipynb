{
 "cells": [
  {
   "cell_type": "code",
   "execution_count": 1,
   "id": "54791ec4",
   "metadata": {},
   "outputs": [
    {
     "name": "stdout",
     "output_type": "stream",
     "text": [
      "POSTGRES_URL: postgresql://neondb_owner:npg_...\n",
      "PORT: 8080\n",
      "REDIS_URL: redis://localhost:6379/0\n",
      "ABLY_API_KEY: fY8h2Q.YYXi2w:SxFgeu_hbbmEAfuh5R4cSk_3OCILqe894kCX7BZQjZY\n"
     ]
    }
   ],
   "source": [
    "import os\n",
    "from dotenv import load_dotenv\n",
    "\n",
    "# Load environment variables from .env\n",
    "load_dotenv()\n",
    "\n",
    "# Verify if environment variables are loaded correctly\n",
    "print(f\"POSTGRES_URL: {os.getenv('POSTGRES_URL')[:30]}...\")\n",
    "print(f\"PORT: {os.getenv('PORT')}\")\n",
    "print(f\"REDIS_URL: {os.getenv('REDIS_URL')}\")\n",
    "print(f\"ABLY_API_KEY: {os.getenv('ABLY_API_KEY')}\")"
   ]
  },
  {
   "cell_type": "code",
   "execution_count": 2,
   "id": "bc886fb8",
   "metadata": {},
   "outputs": [],
   "source": [
    "import pandas as pd\n",
    "symbools = pd.read_csv(\"https://api.dhan.co/v2/instrument/NSE_EQ\")"
   ]
  },
  {
   "cell_type": "code",
   "execution_count": 3,
   "id": "6024aedc",
   "metadata": {},
   "outputs": [
    {
     "name": "stdout",
     "output_type": "stream",
     "text": [
      "Collecting sqlalchemy\n",
      "  Downloading sqlalchemy-2.0.41-py3-none-any.whl.metadata (9.6 kB)\n",
      "Collecting typing-extensions>=4.6.0 (from sqlalchemy)\n",
      "  Using cached typing_extensions-4.13.2-py3-none-any.whl.metadata (3.0 kB)\n",
      "Downloading sqlalchemy-2.0.41-py3-none-any.whl (1.9 MB)\n",
      "\u001b[2K   \u001b[38;2;114;156;31m━━━━━━━━━━━━━━━━━━━━━━━━━━━━━━━━━━━━━━━━\u001b[0m \u001b[32m1.9/1.9 MB\u001b[0m \u001b[31m37.5 kB/s\u001b[0m eta \u001b[36m0:00:00\u001b[0m kB/s\u001b[0m eta \u001b[36m0:00:03\u001b[0m:10\u001b[0m\n",
      "\u001b[?25hUsing cached typing_extensions-4.13.2-py3-none-any.whl (45 kB)\n",
      "Installing collected packages: typing-extensions, sqlalchemy\n",
      "Successfully installed sqlalchemy-2.0.41 typing-extensions-4.13.2\n",
      "\n",
      "\u001b[1m[\u001b[0m\u001b[34;49mnotice\u001b[0m\u001b[1;39;49m]\u001b[0m\u001b[39;49m A new release of pip is available: \u001b[0m\u001b[31;49m24.3.1\u001b[0m\u001b[39;49m -> \u001b[0m\u001b[32;49m25.1.1\u001b[0m\n",
      "\u001b[1m[\u001b[0m\u001b[34;49mnotice\u001b[0m\u001b[1;39;49m]\u001b[0m\u001b[39;49m To update, run: \u001b[0m\u001b[32;49mpip install --upgrade pip\u001b[0m\n"
     ]
    }
   ],
   "source": [
    "!pip install sqlalchemy"
   ]
  },
  {
   "cell_type": "code",
   "execution_count": 5,
   "id": "09139dbd",
   "metadata": {},
   "outputs": [
    {
     "name": "stdout",
     "output_type": "stream",
     "text": [
      "Successfully saved 7999 symbols to database table 'symbols'\n"
     ]
    }
   ],
   "source": [
    "from sqlalchemy import create_engine\n",
    "import sqlalchemy as sa\n",
    "\n",
    "# Get the PostgreSQL connection string from environment\n",
    "postgres_url = os.getenv('POSTGRES_URL')\n",
    "\n",
    "if postgres_url:\n",
    "    # Create SQLAlchemy engine\n",
    "    engine = create_engine(postgres_url)\n",
    "    \n",
    "    # Save DataFrame to database table named 'symbols'\n",
    "    # if_exists='replace' will drop and recreate the table if it exists\n",
    "    # index=False prevents pandas from adding an index column\n",
    "    symbools.to_sql(\n",
    "        name='symboltbl', \n",
    "        con=engine, \n",
    "        if_exists='replace', \n",
    "        index=False,\n",
    "        dtype={\n",
    "            'tradingsymbol': sa.types.VARCHAR(length=50),\n",
    "            'name': sa.types.VARCHAR(length=255),\n",
    "            'instrument_type': sa.types.VARCHAR(length=50),\n",
    "            'exchange': sa.types.VARCHAR(length=20),\n",
    "            # Add proper data types for other columns as needed\n",
    "        }\n",
    "    )\n",
    "    \n",
    "    print(f\"Successfully saved {len(symbools)} symbols to database table 'symbols'\")\n",
    "else:\n",
    "    print(\"Error: POSTGRES_URL environment variable not found\")"
   ]
  }
 ],
 "metadata": {
  "kernelspec": {
   "display_name": "Python 3",
   "language": "python",
   "name": "python3"
  },
  "language_info": {
   "codemirror_mode": {
    "name": "ipython",
    "version": 3
   },
   "file_extension": ".py",
   "mimetype": "text/x-python",
   "name": "python",
   "nbconvert_exporter": "python",
   "pygments_lexer": "ipython3",
   "version": "3.14.0"
  }
 },
 "nbformat": 4,
 "nbformat_minor": 5
}
